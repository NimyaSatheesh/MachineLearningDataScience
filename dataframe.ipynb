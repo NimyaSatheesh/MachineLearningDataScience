{
  "nbformat": 4,
  "nbformat_minor": 0,
  "metadata": {
    "colab": {
      "name": "dataframe.ipynb",
      "provenance": [],
      "collapsed_sections": [],
      "authorship_tag": "ABX9TyO/IOVRgHAQh4GnwuLV1eGP",
      "include_colab_link": true
    },
    "kernelspec": {
      "name": "python3",
      "display_name": "Python 3"
    },
    "language_info": {
      "name": "python"
    }
  },
  "cells": [
    {
      "cell_type": "markdown",
      "metadata": {
        "id": "view-in-github",
        "colab_type": "text"
      },
      "source": [
        "<a href=\"https://colab.research.google.com/github/NimyaSatheesh/MachineLearningDataStructure/blob/main/dataframe.ipynb\" target=\"_parent\"><img src=\"https://colab.research.google.com/assets/colab-badge.svg\" alt=\"Open In Colab\"/></a>"
      ]
    },
    {
      "cell_type": "code",
      "execution_count": null,
      "metadata": {
        "colab": {
          "base_uri": "https://localhost:8080/"
        },
        "id": "SF2Pp6KXUwKB",
        "outputId": "fee4f3b8-09bb-4343-f294-ce86ee3ce467"
      },
      "outputs": [
        {
          "output_type": "stream",
          "name": "stdout",
          "text": [
            "     Name Team\n",
            "0  Hardik   MI\n",
            "1   Virat  RCB\n"
          ]
        }
      ],
      "source": [
        "#1. create Dataframe From Series\n",
        "import pandas as pd\n",
        "name=pd.Series(['Hardik','Virat'])\n",
        "team=pd.Series(['MI','RCB'])\n",
        "dic={'Name':name,'Team':team}\n",
        "df=pd.DataFrame(dic)\n",
        "print(df)"
      ]
    },
    {
      "cell_type": "code",
      "source": [
        "#2. DataFrame from List of Dictionaries\n",
        "import pandas as pd\n",
        "l = [{'name':'sachin','sirname':'bhardwaj'},\n",
        "   {'name':'vinod','sirname':'verma'},\n",
        "   {'name':'rajesh','sirname':'mishra'}]\n",
        "df1=pd.DataFrame(l)  \n",
        "print(df1)"
      ],
      "metadata": {
        "colab": {
          "base_uri": "https://localhost:8080/"
        },
        "id": "9pcbuUZFVqk7",
        "outputId": "238c0467-9ee4-45ef-be7e-b2d5625b026f"
      },
      "execution_count": null,
      "outputs": [
        {
          "output_type": "stream",
          "name": "stdout",
          "text": [
            "     name   sirname\n",
            "0  sachin  bhardwaj\n",
            "1   vinod     verma\n",
            "2  rajesh    mishra\n"
          ]
        }
      ]
    },
    {
      "cell_type": "code",
      "source": [
        "#3. Display the first 5 rows of data frame\n",
        "import pandas as pd\n",
        "m = [{'name':'sachin','sirname':'bhardwaj'},\n",
        "   {'name':'vinod','sirname':'verma'},\n",
        "   {'name':'rajesh','sirname':'mishra'},\n",
        "   {'name':'ran','sirname':'mira'},\n",
        "   {'name':'ram','sirname':'mia'},\n",
        "   {'name':'mesh','sirname':'kashra'}]\n",
        "df2=pd.DataFrame(m)  \n",
        "print(df1)\n",
        "for(row_index,row_value) in df2.iterrows():\n",
        "  print('\\n Row index is ::',row_index)\n",
        "  print('Row value is::')\n",
        "  print(row_value)"
      ],
      "metadata": {
        "colab": {
          "base_uri": "https://localhost:8080/"
        },
        "id": "P-yBUlUiWjxg",
        "outputId": "74331476-3cb8-43f1-867d-517ca0769cba"
      },
      "execution_count": null,
      "outputs": [
        {
          "output_type": "stream",
          "name": "stdout",
          "text": [
            "     name   sirname\n",
            "0  sachin  bhardwaj\n",
            "1   vinod     verma\n",
            "2  rajesh    mishra\n",
            "\n",
            " Row index is :: 0\n",
            "Row value is::\n",
            "name         sachin\n",
            "sirname    bhardwaj\n",
            "Name: 0, dtype: object\n",
            "\n",
            " Row index is :: 1\n",
            "Row value is::\n",
            "name       vinod\n",
            "sirname    verma\n",
            "Name: 1, dtype: object\n",
            "\n",
            " Row index is :: 2\n",
            "Row value is::\n",
            "name       rajesh\n",
            "sirname    mishra\n",
            "Name: 2, dtype: object\n",
            "\n",
            " Row index is :: 3\n",
            "Row value is::\n",
            "name        ran\n",
            "sirname    mira\n",
            "Name: 3, dtype: object\n",
            "\n",
            " Row index is :: 4\n",
            "Row value is::\n",
            "name       ram\n",
            "sirname    mia\n",
            "Name: 4, dtype: object\n",
            "\n",
            " Row index is :: 5\n",
            "Row value is::\n",
            "name         mesh\n",
            "sirname    kashra\n",
            "Name: 5, dtype: object\n"
          ]
        }
      ]
    },
    {
      "cell_type": "code",
      "source": [
        "#4. Select the last two columns of the data frame\n",
        "import pandas as pd\n",
        "l = [{'name':'sachin','sirname':'bhardwaj'},\n",
        "   {'name':'vinod','sirname':'verma'}]\n",
        "df3=pd.DataFrame(l)  \n",
        "print(df3)\n",
        "for(col_name,col_value) in df3.iteritems():\n",
        "  print('\\n')\n",
        "  print('Column name is ::',col_name)\n",
        "  print('column values are::')\n",
        "  print(col_value)"
      ],
      "metadata": {
        "colab": {
          "base_uri": "https://localhost:8080/"
        },
        "id": "xAkugNMMYHiu",
        "outputId": "bd697a8e-a13d-417a-f098-d8c7701a6c95"
      },
      "execution_count": null,
      "outputs": [
        {
          "output_type": "stream",
          "name": "stdout",
          "text": [
            "     name   sirname\n",
            "0  sachin  bhardwaj\n",
            "1   vinod     verma\n",
            "\n",
            "\n",
            "Column name is :: name\n",
            "column values are::\n",
            "0    sachin\n",
            "1     vinod\n",
            "Name: name, dtype: object\n",
            "\n",
            "\n",
            "Column name is :: sirname\n",
            "column values are::\n",
            "0    bhardwaj\n",
            "1       verma\n",
            "Name: sirname, dtype: object\n"
          ]
        }
      ]
    },
    {
      "cell_type": "code",
      "source": [
        "#5. Add two data frames\n",
        "import pandas as pd\n",
        "g = pd.Series([10,15,18,22])\n",
        "df=pd.DataFrame(g)\n",
        "df.columns=['List1']\n",
        "df['List2']=20\n",
        "df['List3']=df['List1']+df['List2']\n",
        "print(df)"
      ],
      "metadata": {
        "colab": {
          "base_uri": "https://localhost:8080/"
        },
        "id": "MPJR91TPZV8j",
        "outputId": "100776f2-2a79-4b77-f282-c6807ef71582"
      },
      "execution_count": null,
      "outputs": [
        {
          "output_type": "stream",
          "name": "stdout",
          "text": [
            "   List1  List2  List3\n",
            "0     10     20     30\n",
            "1     15     20     35\n",
            "2     18     20     38\n",
            "3     22     20     42\n"
          ]
        }
      ]
    },
    {
      "cell_type": "code",
      "source": [
        "#6. Demonstrate deletion, and renaming of columns\n",
        "import pandas as pd\n",
        "g = pd.Series([10,15,18,22])\n",
        "df=pd.DataFrame(g)\n",
        "df.columns=['List1']\n",
        "df['List2']=20\n",
        "df['List3']=df['List1']+df['List2']\n",
        "del df['List3']\n",
        "print(df)\n",
        "print('\\npop\\n')\n",
        "df.pop('List2')\n",
        "print(df)"
      ],
      "metadata": {
        "colab": {
          "base_uri": "https://localhost:8080/"
        },
        "id": "2rhVH5umZ3HB",
        "outputId": "ed068590-650f-40d1-c08d-f34d25f44456"
      },
      "execution_count": null,
      "outputs": [
        {
          "output_type": "stream",
          "name": "stdout",
          "text": [
            "   List1  List2\n",
            "0     10     20\n",
            "1     15     20\n",
            "2     18     20\n",
            "3     22     20\n",
            "\n",
            "pop\n",
            "\n",
            "   List1\n",
            "0     10\n",
            "1     15\n",
            "2     18\n",
            "3     22\n"
          ]
        }
      ]
    },
    {
      "cell_type": "code",
      "source": [
        "#7. Demonstrate concat, Merge operations in data frame\n",
        "import pandas as pd\n",
        "dict1={'id':['1','2','3','4','5'],'value1':['A','C','E','G','I'],\n",
        "       'value2':['B','D','F','H','J']}\n",
        "dict2={'id':['2','3','6','7','8'],'value1':['K','M','O','Q','S'],\n",
        "       'value2':['L','N','P','R','T']}\n",
        "dict3={'id':['2','3','1','7','8','9','1','4','5','0'],\n",
        "       'value3':['cA','ra','Ka','Ma','Oa','Qa','ta','ja','ea','Sa']}\n",
        "\n",
        "df1=pd.DataFrame(dict1)\n",
        "df2=pd.DataFrame(dict2)\n",
        "df3=pd.concat([df1,df2])\n",
        "print(\"..........concat........\\n\", df3)\n",
        "\n",
        "df4=pd.DataFrame(dict3)\n",
        "print(\"\\ndict4 = \\n\",df4)\n",
        "\n",
        "df5=pd.merge(df1,df4,on='id')\n",
        "print(\"\\n\\n====merge====\\n\",df5)\n",
        "\n",
        "df6=pd.merge(df3,df4,left_on='id',right_on='id')\n",
        "print(\"\\n\\n........merge with interchange name......\\n\",df6)\n",
        "\n",
        "df7=pd.merge(df1,df2,right_index=True,left_index=True)\n",
        "print(\"\\n\\n.........Joining index.....\\n\",df7)"
      ],
      "metadata": {
        "id": "nEoqYjY1afyS",
        "colab": {
          "base_uri": "https://localhost:8080/"
        },
        "outputId": "e90b01c0-1a87-409c-d9cd-009531f591f8"
      },
      "execution_count": 29,
      "outputs": [
        {
          "output_type": "stream",
          "name": "stdout",
          "text": [
            "..........concat........\n",
            "   id value1 value2\n",
            "0  1      A      B\n",
            "1  2      C      D\n",
            "2  3      E      F\n",
            "3  4      G      H\n",
            "4  5      I      J\n",
            "0  2      K      L\n",
            "1  3      M      N\n",
            "2  6      O      P\n",
            "3  7      Q      R\n",
            "4  8      S      T\n",
            "\n",
            "dict4 = \n",
            "   id value3\n",
            "0  2     cA\n",
            "1  3     ra\n",
            "2  1     Ka\n",
            "3  7     Ma\n",
            "4  8     Oa\n",
            "5  9     Qa\n",
            "6  1     ta\n",
            "7  4     ja\n",
            "8  5     ea\n",
            "9  0     Sa\n",
            "\n",
            "\n",
            "====merge====\n",
            "   id value1 value2 value3\n",
            "0  1      A      B     Ka\n",
            "1  1      A      B     ta\n",
            "2  2      C      D     cA\n",
            "3  3      E      F     ra\n",
            "4  4      G      H     ja\n",
            "5  5      I      J     ea\n",
            "\n",
            "\n",
            "........merge with interchange name......\n",
            "   id value1 value2 value3\n",
            "0  1      A      B     Ka\n",
            "1  1      A      B     ta\n",
            "2  2      C      D     cA\n",
            "3  2      K      L     cA\n",
            "4  3      E      F     ra\n",
            "5  3      M      N     ra\n",
            "6  4      G      H     ja\n",
            "7  5      I      J     ea\n",
            "8  7      Q      R     Ma\n",
            "9  8      S      T     Oa\n",
            "\n",
            "\n",
            ".........Joining index.....\n",
            "   id_x value1_x value2_x id_y value1_y value2_y\n",
            "0    1        A        B    2        K        L\n",
            "1    2        C        D    3        M        N\n",
            "2    3        E        F    6        O        P\n",
            "3    4        G        H    7        Q        R\n",
            "4    5        I        J    8        S        T\n"
          ]
        }
      ]
    },
    {
      "cell_type": "code",
      "source": [
        "#8. Write a Pandas program to join the two given dataframes along rows and assign all data\n",
        "\n",
        "import pandas as pd\n",
        "df6.to_csv('output.csv')"
      ],
      "metadata": {
        "id": "B_FIYIunveeK"
      },
      "execution_count": 26,
      "outputs": []
    },
    {
      "cell_type": "code",
      "source": [
        "data=pd.read_csv('output.csv')\n",
        "data"
      ],
      "metadata": {
        "colab": {
          "base_uri": "https://localhost:8080/",
          "height": 363
        },
        "id": "vSFog4iM8pWr",
        "outputId": "3cd4b58e-a503-4cbd-db2f-f708d7ea894b"
      },
      "execution_count": 28,
      "outputs": [
        {
          "output_type": "execute_result",
          "data": {
            "text/plain": [
              "   Unnamed: 0  id value1 value2 value3\n",
              "0           0   1      A      B     Ka\n",
              "1           1   1      A      B     ta\n",
              "2           2   2      C      D     cA\n",
              "3           3   2      K      L     cA\n",
              "4           4   3      E      F     ra\n",
              "5           5   3      M      N     ra\n",
              "6           6   4      G      H     ja\n",
              "7           7   5      I      J     ea\n",
              "8           8   7      Q      R     Ma\n",
              "9           9   8      S      T     Oa"
            ],
            "text/html": [
              "\n",
              "  <div id=\"df-2ff6f552-5053-4a79-a5d9-e252726cae83\">\n",
              "    <div class=\"colab-df-container\">\n",
              "      <div>\n",
              "<style scoped>\n",
              "    .dataframe tbody tr th:only-of-type {\n",
              "        vertical-align: middle;\n",
              "    }\n",
              "\n",
              "    .dataframe tbody tr th {\n",
              "        vertical-align: top;\n",
              "    }\n",
              "\n",
              "    .dataframe thead th {\n",
              "        text-align: right;\n",
              "    }\n",
              "</style>\n",
              "<table border=\"1\" class=\"dataframe\">\n",
              "  <thead>\n",
              "    <tr style=\"text-align: right;\">\n",
              "      <th></th>\n",
              "      <th>Unnamed: 0</th>\n",
              "      <th>id</th>\n",
              "      <th>value1</th>\n",
              "      <th>value2</th>\n",
              "      <th>value3</th>\n",
              "    </tr>\n",
              "  </thead>\n",
              "  <tbody>\n",
              "    <tr>\n",
              "      <th>0</th>\n",
              "      <td>0</td>\n",
              "      <td>1</td>\n",
              "      <td>A</td>\n",
              "      <td>B</td>\n",
              "      <td>Ka</td>\n",
              "    </tr>\n",
              "    <tr>\n",
              "      <th>1</th>\n",
              "      <td>1</td>\n",
              "      <td>1</td>\n",
              "      <td>A</td>\n",
              "      <td>B</td>\n",
              "      <td>ta</td>\n",
              "    </tr>\n",
              "    <tr>\n",
              "      <th>2</th>\n",
              "      <td>2</td>\n",
              "      <td>2</td>\n",
              "      <td>C</td>\n",
              "      <td>D</td>\n",
              "      <td>cA</td>\n",
              "    </tr>\n",
              "    <tr>\n",
              "      <th>3</th>\n",
              "      <td>3</td>\n",
              "      <td>2</td>\n",
              "      <td>K</td>\n",
              "      <td>L</td>\n",
              "      <td>cA</td>\n",
              "    </tr>\n",
              "    <tr>\n",
              "      <th>4</th>\n",
              "      <td>4</td>\n",
              "      <td>3</td>\n",
              "      <td>E</td>\n",
              "      <td>F</td>\n",
              "      <td>ra</td>\n",
              "    </tr>\n",
              "    <tr>\n",
              "      <th>5</th>\n",
              "      <td>5</td>\n",
              "      <td>3</td>\n",
              "      <td>M</td>\n",
              "      <td>N</td>\n",
              "      <td>ra</td>\n",
              "    </tr>\n",
              "    <tr>\n",
              "      <th>6</th>\n",
              "      <td>6</td>\n",
              "      <td>4</td>\n",
              "      <td>G</td>\n",
              "      <td>H</td>\n",
              "      <td>ja</td>\n",
              "    </tr>\n",
              "    <tr>\n",
              "      <th>7</th>\n",
              "      <td>7</td>\n",
              "      <td>5</td>\n",
              "      <td>I</td>\n",
              "      <td>J</td>\n",
              "      <td>ea</td>\n",
              "    </tr>\n",
              "    <tr>\n",
              "      <th>8</th>\n",
              "      <td>8</td>\n",
              "      <td>7</td>\n",
              "      <td>Q</td>\n",
              "      <td>R</td>\n",
              "      <td>Ma</td>\n",
              "    </tr>\n",
              "    <tr>\n",
              "      <th>9</th>\n",
              "      <td>9</td>\n",
              "      <td>8</td>\n",
              "      <td>S</td>\n",
              "      <td>T</td>\n",
              "      <td>Oa</td>\n",
              "    </tr>\n",
              "  </tbody>\n",
              "</table>\n",
              "</div>\n",
              "      <button class=\"colab-df-convert\" onclick=\"convertToInteractive('df-2ff6f552-5053-4a79-a5d9-e252726cae83')\"\n",
              "              title=\"Convert this dataframe to an interactive table.\"\n",
              "              style=\"display:none;\">\n",
              "        \n",
              "  <svg xmlns=\"http://www.w3.org/2000/svg\" height=\"24px\"viewBox=\"0 0 24 24\"\n",
              "       width=\"24px\">\n",
              "    <path d=\"M0 0h24v24H0V0z\" fill=\"none\"/>\n",
              "    <path d=\"M18.56 5.44l.94 2.06.94-2.06 2.06-.94-2.06-.94-.94-2.06-.94 2.06-2.06.94zm-11 1L8.5 8.5l.94-2.06 2.06-.94-2.06-.94L8.5 2.5l-.94 2.06-2.06.94zm10 10l.94 2.06.94-2.06 2.06-.94-2.06-.94-.94-2.06-.94 2.06-2.06.94z\"/><path d=\"M17.41 7.96l-1.37-1.37c-.4-.4-.92-.59-1.43-.59-.52 0-1.04.2-1.43.59L10.3 9.45l-7.72 7.72c-.78.78-.78 2.05 0 2.83L4 21.41c.39.39.9.59 1.41.59.51 0 1.02-.2 1.41-.59l7.78-7.78 2.81-2.81c.8-.78.8-2.07 0-2.86zM5.41 20L4 18.59l7.72-7.72 1.47 1.35L5.41 20z\"/>\n",
              "  </svg>\n",
              "      </button>\n",
              "      \n",
              "  <style>\n",
              "    .colab-df-container {\n",
              "      display:flex;\n",
              "      flex-wrap:wrap;\n",
              "      gap: 12px;\n",
              "    }\n",
              "\n",
              "    .colab-df-convert {\n",
              "      background-color: #E8F0FE;\n",
              "      border: none;\n",
              "      border-radius: 50%;\n",
              "      cursor: pointer;\n",
              "      display: none;\n",
              "      fill: #1967D2;\n",
              "      height: 32px;\n",
              "      padding: 0 0 0 0;\n",
              "      width: 32px;\n",
              "    }\n",
              "\n",
              "    .colab-df-convert:hover {\n",
              "      background-color: #E2EBFA;\n",
              "      box-shadow: 0px 1px 2px rgba(60, 64, 67, 0.3), 0px 1px 3px 1px rgba(60, 64, 67, 0.15);\n",
              "      fill: #174EA6;\n",
              "    }\n",
              "\n",
              "    [theme=dark] .colab-df-convert {\n",
              "      background-color: #3B4455;\n",
              "      fill: #D2E3FC;\n",
              "    }\n",
              "\n",
              "    [theme=dark] .colab-df-convert:hover {\n",
              "      background-color: #434B5C;\n",
              "      box-shadow: 0px 1px 3px 1px rgba(0, 0, 0, 0.15);\n",
              "      filter: drop-shadow(0px 1px 2px rgba(0, 0, 0, 0.3));\n",
              "      fill: #FFFFFF;\n",
              "    }\n",
              "  </style>\n",
              "\n",
              "      <script>\n",
              "        const buttonEl =\n",
              "          document.querySelector('#df-2ff6f552-5053-4a79-a5d9-e252726cae83 button.colab-df-convert');\n",
              "        buttonEl.style.display =\n",
              "          google.colab.kernel.accessAllowed ? 'block' : 'none';\n",
              "\n",
              "        async function convertToInteractive(key) {\n",
              "          const element = document.querySelector('#df-2ff6f552-5053-4a79-a5d9-e252726cae83');\n",
              "          const dataTable =\n",
              "            await google.colab.kernel.invokeFunction('convertToInteractive',\n",
              "                                                     [key], {});\n",
              "          if (!dataTable) return;\n",
              "\n",
              "          const docLinkHtml = 'Like what you see? Visit the ' +\n",
              "            '<a target=\"_blank\" href=https://colab.research.google.com/notebooks/data_table.ipynb>data table notebook</a>'\n",
              "            + ' to learn more about interactive tables.';\n",
              "          element.innerHTML = '';\n",
              "          dataTable['output_type'] = 'display_data';\n",
              "          await google.colab.output.renderOutput(dataTable, element);\n",
              "          const docLink = document.createElement('div');\n",
              "          docLink.innerHTML = docLinkHtml;\n",
              "          element.appendChild(docLink);\n",
              "        }\n",
              "      </script>\n",
              "    </div>\n",
              "  </div>\n",
              "  "
            ]
          },
          "metadata": {},
          "execution_count": 28
        }
      ]
    },
    {
      "cell_type": "code",
      "source": [],
      "metadata": {
        "id": "BNpILL4j8wqB"
      },
      "execution_count": null,
      "outputs": []
    }
  ]
}