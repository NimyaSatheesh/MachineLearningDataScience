{
  "nbformat": 4,
  "nbformat_minor": 0,
  "metadata": {
    "colab": {
      "name": "pandsas.ipynb",
      "provenance": [],
      "authorship_tag": "ABX9TyObwghGg+QPxK/j6XxeZJIU",
      "include_colab_link": true
    },
    "kernelspec": {
      "name": "python3",
      "display_name": "Python 3"
    },
    "language_info": {
      "name": "python"
    }
  },
  "cells": [
    {
      "cell_type": "markdown",
      "metadata": {
        "id": "view-in-github",
        "colab_type": "text"
      },
      "source": [
        "<a href=\"https://colab.research.google.com/github/NimyaSatheesh/MachineLearningDataStructure/blob/main/pandsas.ipynb\" target=\"_parent\"><img src=\"https://colab.research.google.com/assets/colab-badge.svg\" alt=\"Open In Colab\"/></a>"
      ]
    },
    {
      "cell_type": "code",
      "execution_count": 5,
      "metadata": {
        "colab": {
          "base_uri": "https://localhost:8080/"
        },
        "id": "6Pn0xRcrB3bn",
        "outputId": "e7ba8f88-75e7-4a9d-d011-18d76d632ecf"
      },
      "outputs": [
        {
          "output_type": "stream",
          "name": "stdout",
          "text": [
            "0    10\n",
            "1    12\n",
            "2    20\n",
            "3    24\n",
            "4    30\n",
            "dtype: int64\n"
          ]
        }
      ],
      "source": [
        "#1. How to create Series with nd array\n",
        "import pandas as pd\n",
        "import numpy as np\n",
        "arr=np.array([10,12,20,24,30])\n",
        "s = pd.Series(arr)\n",
        "print(s)"
      ]
    },
    {
      "cell_type": "code",
      "source": [
        "#2. How to create Series with Mutable index\n",
        "import pandas as pd\n",
        "\n",
        "import numpy as np\n",
        "arr=np.array(['a','b','c','d'])\n",
        "p=pd.Series(arr, index=['first','second','third','fourth'])\n",
        "print(p)"
      ],
      "metadata": {
        "colab": {
          "base_uri": "https://localhost:8080/"
        },
        "id": "pbVdXD_xFRo6",
        "outputId": "f452a832-cb20-4fd5-f0c7-41b709978015"
      },
      "execution_count": 10,
      "outputs": [
        {
          "output_type": "stream",
          "name": "stdout",
          "text": [
            "first     a\n",
            "second    b\n",
            "third     c\n",
            "fourth    d\n",
            "dtype: object\n"
          ]
        }
      ]
    },
    {
      "cell_type": "code",
      "source": [
        "import pandas as pd\n",
        "x = pd.Series(50 , index=[20,30,40,50])\n",
        "print(x)"
      ],
      "metadata": {
        "colab": {
          "base_uri": "https://localhost:8080/"
        },
        "id": "LfrXSlllFdzS",
        "outputId": "a2661dc3-b567-4ef1-9d48-87bcebb388a3"
      },
      "execution_count": 11,
      "outputs": [
        {
          "output_type": "stream",
          "name": "stdout",
          "text": [
            "20    50\n",
            "30    50\n",
            "40    50\n",
            "50    50\n",
            "dtype: int64\n"
          ]
        }
      ]
    },
    {
      "cell_type": "code",
      "source": [
        "#3. Creating a series from a Dictionary\n",
        "import pandas as ps\n",
        "d = {'name' : 'kia', 'phone' : 98563953, 'runs' : 1500} \n",
        "y = pd.Series(d)\n",
        "print(y)"
      ],
      "metadata": {
        "colab": {
          "base_uri": "https://localhost:8080/"
        },
        "id": "tk5VPUG4FxMj",
        "outputId": "faf6e1f1-beaf-49a3-db64-49568745d96f"
      },
      "execution_count": 12,
      "outputs": [
        {
          "output_type": "stream",
          "name": "stdout",
          "text": [
            "name          kia\n",
            "phone    98563953\n",
            "runs         1500\n",
            "dtype: object\n"
          ]
        }
      ]
    },
    {
      "cell_type": "code",
      "source": [
        "#4. Print all the values of the Series by multiplying them by 2.\n",
        "#5. Print Square of all the values of the series.\n",
        "#6. Print all the values of the Series that are greater than2\n",
        "import pandas as pd\n",
        "b=pd.Series([0,1,2,3,4])\n",
        "print(\"multiple all values by 2\")\n",
        "print('.....................')\n",
        "print(b*2)\n",
        "print(\"Squere for all value\")\n",
        "print(\".....................\")\n",
        "print(b**2)\n",
        "print(\"print values greater than 2\")\n",
        "print('.....................')\n",
        "print(b[b>2])\n"
      ],
      "metadata": {
        "colab": {
          "base_uri": "https://localhost:8080/"
        },
        "id": "DXXVAXquHDq0",
        "outputId": "213d8194-76b2-4fbf-e63e-e353418ad5eb"
      },
      "execution_count": 18,
      "outputs": [
        {
          "output_type": "stream",
          "name": "stdout",
          "text": [
            "multiple all values by 2\n",
            ".....................\n",
            "0    0\n",
            "1    2\n",
            "2    4\n",
            "3    6\n",
            "4    8\n",
            "dtype: int64\n",
            "Squere for all value\n",
            ".....................\n",
            "0     0\n",
            "1     1\n",
            "2     4\n",
            "3     9\n",
            "4    16\n",
            "dtype: int64\n",
            "print values greater than 2\n",
            ".....................\n",
            "3    3\n",
            "4    4\n",
            "dtype: int64\n"
          ]
        }
      ]
    },
    {
      "cell_type": "code",
      "source": [
        "#7. Addition of two series\n",
        "import pandas as pd\n",
        "s1=pd.Series([1,2,3,4,5],index=['a','b','c','d','e'])\n",
        "s2=pd.Series([10,20,30,40,50],index=['a','b','c','d','e'])\n",
        "s3=pd.Series([5,14,23,32],index=['a','b','c','d'])\n",
        "print(\"Add S1 and S2\")\n",
        "print('.....................')\n",
        "print(s1+s2)\n",
        "print(\"Add S2 and S3\")\n",
        "print('.....................')\n",
        "print(s2+s3)\n",
        "print(\"Add S2 and S3 and filled non matching index with 0\")\n",
        "print('.....................')\n",
        "print(s2.add(s3,fill_value=0))"
      ],
      "metadata": {
        "colab": {
          "base_uri": "https://localhost:8080/"
        },
        "id": "q7OA_dBHJhjF",
        "outputId": "2b0baeee-7b3d-499b-e8a1-917028afa680"
      },
      "execution_count": 17,
      "outputs": [
        {
          "output_type": "stream",
          "name": "stdout",
          "text": [
            "Add S1 and S2\n",
            ".....................\n",
            "a    11\n",
            "b    22\n",
            "c    33\n",
            "d    44\n",
            "e    55\n",
            "dtype: int64\n",
            "Add S2 and S3\n",
            ".....................\n",
            "a    15.0\n",
            "b    34.0\n",
            "c    53.0\n",
            "d    72.0\n",
            "e     NaN\n",
            "dtype: float64\n",
            "Add S2 and S3 and filled non matching index with 0\n",
            ".....................\n",
            "a    15.0\n",
            "b    34.0\n",
            "c    53.0\n",
            "d    72.0\n",
            "e    50.0\n",
            "dtype: float64\n"
          ]
        }
      ]
    },
    {
      "cell_type": "code",
      "source": [
        "import pandas as pd\n",
        "import numpy as np\n",
        "arra=np.array([10,12,20,24,30,34,56,66,99])\n",
        "c=pd.Series(arra)\n",
        "print(c.head())\n",
        "print(c.head(3))"
      ],
      "metadata": {
        "colab": {
          "base_uri": "https://localhost:8080/"
        },
        "id": "U-eRG9grMIRT",
        "outputId": "a4d6f62a-b4b3-4a48-cb52-3821116fbd68"
      },
      "execution_count": 21,
      "outputs": [
        {
          "output_type": "stream",
          "name": "stdout",
          "text": [
            "0    10\n",
            "1    12\n",
            "2    20\n",
            "3    24\n",
            "4    30\n",
            "dtype: int64\n",
            "0    10\n",
            "1    12\n",
            "2    20\n",
            "dtype: int64\n"
          ]
        }
      ]
    },
    {
      "cell_type": "code",
      "source": [
        "import pandas as pd\n",
        "import numpy as np\n",
        "ar=np.array([10,12,20,24,30,34,56,66,99])\n",
        "d=pd.Series(ar)\n",
        "print(d.tail())\n",
        "print(d.tail(4))"
      ],
      "metadata": {
        "colab": {
          "base_uri": "https://localhost:8080/"
        },
        "id": "OW28r2itMYiu",
        "outputId": "1062f839-541a-47d1-8d97-5b86b9bc2c7e"
      },
      "execution_count": 22,
      "outputs": [
        {
          "output_type": "stream",
          "name": "stdout",
          "text": [
            "4    30\n",
            "5    34\n",
            "6    56\n",
            "7    66\n",
            "8    99\n",
            "dtype: int64\n",
            "5    34\n",
            "6    56\n",
            "7    66\n",
            "8    99\n",
            "dtype: int64\n"
          ]
        }
      ]
    },
    {
      "cell_type": "code",
      "source": [
        "#8. Print the first and last 5 elements of a series\n",
        "#9. Print the values from index 0 to 5\n",
        "#10. Selection Using loc, iloc index label\n",
        "import pandas as pd\n",
        "import numpy as np\n",
        "ara=np.array([10,20,30,35,40,45])\n",
        "e=pd.Series(ara)\n",
        "print(e)\n",
        "print(\"\\n.........loc........\\n\")\n",
        "print(e.loc[:2])\n",
        "print(e.loc[3:4])\n",
        "e.loc[2:3]\n",
        "\n",
        "print(\"\\n...........iloc......\\n\")\n",
        "print(e.iloc[:2])\n",
        "print(e.iloc[3:4])\n",
        "e.iloc[2:3]"
      ],
      "metadata": {
        "colab": {
          "base_uri": "https://localhost:8080/"
        },
        "id": "GCRdhnSDSFy4",
        "outputId": "3e512723-2705-4c4f-ee72-32c69145b248"
      },
      "execution_count": 27,
      "outputs": [
        {
          "output_type": "stream",
          "name": "stdout",
          "text": [
            "0    10\n",
            "1    20\n",
            "2    30\n",
            "3    35\n",
            "4    40\n",
            "5    45\n",
            "dtype: int64\n",
            "\n",
            ".........loc........\n",
            "\n",
            "0    10\n",
            "1    20\n",
            "2    30\n",
            "dtype: int64\n",
            "3    35\n",
            "4    40\n",
            "dtype: int64\n",
            "\n",
            "...........iloc......\n",
            "\n",
            "0    10\n",
            "1    20\n",
            "dtype: int64\n",
            "3    35\n",
            "dtype: int64\n"
          ]
        },
        {
          "output_type": "execute_result",
          "data": {
            "text/plain": [
              "2    30\n",
              "dtype: int64"
            ]
          },
          "metadata": {},
          "execution_count": 27
        }
      ]
    },
    {
      "cell_type": "code",
      "source": [
        "#W11. Retrieve subsets of data using slicing\n",
        "import pandas as pd\n",
        "import numpy as np\n",
        "arraa=np.array([10,15,20,25,30,40])\n",
        "f=pd.Series(arraa,index=['A','B','C','D','E','F'])\n",
        "print(f)\n",
        "print(s[1:5:2])\n",
        "print(s[0:6:2])"
      ],
      "metadata": {
        "colab": {
          "base_uri": "https://localhost:8080/"
        },
        "id": "yvTCTXrQTIbk",
        "outputId": "c82c33af-54a2-4e50-b09d-e54c20ee2890"
      },
      "execution_count": 28,
      "outputs": [
        {
          "output_type": "stream",
          "name": "stdout",
          "text": [
            "A    10\n",
            "B    15\n",
            "C    20\n",
            "D    25\n",
            "E    30\n",
            "F    40\n",
            "dtype: int64\n",
            "30    50\n",
            "50    50\n",
            "dtype: int64\n",
            "20    50\n",
            "40    50\n",
            "dtype: int64\n"
          ]
        }
      ]
    }
  ]
}